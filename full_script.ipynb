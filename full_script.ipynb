{
 "cells": [
  {
   "cell_type": "markdown",
   "metadata": {},
   "source": [
    "# Secure Emails\n",
    "\n",
    "By Sally Lee and Zara Coakley\n",
    "\n",
    "When you send an email, you want to know the content of your message is private. Did you know that email isn't end-to-end encrypted, meaning that it's possible for your email provider or outside individuals to intercept and read your email messages? Not cool. One solution to this? Public-key cryptography.\n",
    "\n",
    "Public-key cryptography uses the concept of public and private keys to encrypt your messages in a way that anyone can send you a message, but only you can read it. We created a script that lets you send an email message to your friend that is securely encrypted so that only your friend can read it. To do this, our script uses the RSA algoritm, which is one of the most widely used public-key encryption algorithms.\n",
    "\n",
    "This notebook will walk you through how to use our script!"
   ]
  },
  {
   "cell_type": "markdown",
   "metadata": {},
   "source": [
    "First, import the rsa module we wrote, which contains functions to perform RSA."
   ]
  },
  {
   "cell_type": "code",
   "execution_count": 1,
   "metadata": {},
   "outputs": [],
   "source": [
    "import rsa"
   ]
  },
  {
   "cell_type": "markdown",
   "metadata": {},
   "source": [
    "The first thing you would need to send your friend a secure message is to have that friend generate a public and a private key. When they have done that, they should send you the public key and keep their private key a secret. For the purposes of this notebook, we'll just be sending an email to ourselves, so you can go ahead and generate the public and private key yourself.\n",
    "\n",
    "To generate your keys, you need to first \"seed\" the algorithm by giving it two random prime integers. For the random prime integers, we set their lower and upper bound to get larger prime integers."
   ]
  },
  {
   "cell_type": "code",
   "execution_count": 8,
   "metadata": {},
   "outputs": [
    {
     "name": "stdout",
     "output_type": "stream",
     "text": [
      "First prime number: 77750854433709641040997403337946667601317564653424667380634617490719290142117637779660791320934652339\n",
      "Second prime number: 19608124183220131873228240734042442250455497635634888551869541919849269223901616390132384905120845577\n"
     ]
    }
   ],
   "source": [
    "from sympy import randprime\n",
    "\n",
    "# Generate a large prime number between 10^100 and 10^101\n",
    "lower_bound = 10**100\n",
    "upper_bound = 10**101\n",
    "\n",
    "p = randprime(lower_bound, upper_bound)\n",
    "print(\"First prime number:\", p)\n",
    "q = randprime(lower_bound, upper_bound)\n",
    "while p == q: \n",
    "    q = randprime(lower_bound, upper_bound)\n",
    "print(\"Second prime number:\", q)"
   ]
  },
  {
   "cell_type": "code",
   "execution_count": 2,
   "metadata": {},
   "outputs": [
    {
     "name": "stdout",
     "output_type": "stream",
     "text": [
      "Public Key: (9754500840991320061643681109611521, 9441118497000238529734018891225837)\n",
      "Private Key: (9754500840991320061643681109611521, 3393108387771999042425945492137285)\n"
     ]
    }
   ],
   "source": [
    "private_key, public_key = rsa.generate_key(p,q)\n",
    "print(\"Public Key:\", public_key)\n",
    "print(\"Private Key:\", private_key)"
   ]
  },
  {
   "cell_type": "markdown",
   "metadata": {},
   "source": [
    "Next, enter a message to send.\n",
    "\n",
    "Note: The longer your message, the longer your prime numbers have to be to correctly encrypt your message. The provided prime numbers are large enough to encrypt the default \"hello\" message, but you will need to find larger prime numbers if you want to encrypt a longer message. The next code box will throw an error if your primes are not large enough. In practice, RSA is inefficient for long messages and is generally combined with other techniques to encrypt data.\n",
    "\n",
    "If you want to find your own primes, try this website, which lets you pick the number of digits you want your prime to have: https://t5k.org/curios/index.php?start=16&stop=19"
   ]
  },
  {
   "cell_type": "code",
   "execution_count": 3,
   "metadata": {},
   "outputs": [],
   "source": [
    "# Enter a message to encrypt\n",
    "MESSAGE = \"hello\""
   ]
  },
  {
   "cell_type": "markdown",
   "metadata": {},
   "source": [
    "Next, convert the message to an integer. RSA is a mathematical algorithm that works with numbers, so we need to convert our string message to a number. This function makes use of python's ord() function to do this."
   ]
  },
  {
   "cell_type": "code",
   "execution_count": 5,
   "metadata": {},
   "outputs": [
    {
     "name": "stdout",
     "output_type": "stream",
     "text": [
      "Your message as an integer: 101040101010801080111\n"
     ]
    }
   ],
   "source": [
    "def convert_message_to_int(message):\n",
    "    \"\"\"\n",
    "    Convert message (str) to a single long integer.\n",
    "    \n",
    "    Args:\n",
    "        message: str containing your message\n",
    "\n",
    "    Returns:\n",
    "        message_as_int: the message converted to an integer (int)\n",
    "    \"\"\"\n",
    "    # add a one at the beginning to prevent leading zeros from being cut off\n",
    "    converted_message = \"1\"\n",
    "\n",
    "    for i in message:\n",
    "        int_letter = \"{:04d}\".format(\n",
    "            ord(i)\n",
    "        )  # Convert single letter to zero-padded ASCII\n",
    "        converted_message += int_letter\n",
    "    converted_message = int(converted_message)\n",
    "    return converted_message  # Return as integer\n",
    "\n",
    "\n",
    "\n",
    "message_as_int = convert_message_to_int(MESSAGE)\n",
    "\n",
    "print(\"Your message as an integer:\", message_as_int)\n",
    "\n",
    "# The message must be smaller than p*q to be encrypted correctly\n",
    "if message_as_int >= p*q:\n",
    "    raise ValueError(\"The message in integer form must be smaller than p*q. Choose a shorter message or larger prime numbers.\")"
   ]
  },
  {
   "cell_type": "markdown",
   "metadata": {},
   "source": [
    "Now, encrypt the message. To oversimplify a bit, the algorithm takes your message in integer form and raises it to the power of your public key, an operation that is computationally difficult to reverse. That is, unless you have the private key, which you can think about as the inverse of the public key. There's some other fancy math that rsa does, but that's beyond the scope of this notebook."
   ]
  },
  {
   "cell_type": "code",
   "execution_count": 6,
   "metadata": {},
   "outputs": [
    {
     "name": "stdout",
     "output_type": "stream",
     "text": [
      "8006607196980664483011785397559037\n"
     ]
    }
   ],
   "source": [
    "encrypted_message = rsa.encrypt(public_key, message_as_int)\n",
    "encrypted_message = str(encrypted_message) # needs to be a string to send over email, but we'll convert it back to an int afterwards\n",
    "print(encrypted_message)"
   ]
  },
  {
   "cell_type": "markdown",
   "metadata": {},
   "source": [
    "Next, use SMTP to send the message to your friend over email.\n",
    "\n",
    "This part requires you to set up an app password in your email account, which will let the script access your email in order to send/read the email containing your encrypted message. If you don't want to do this, feel free to skip the next two code blocks and proceed to decrypting your message."
   ]
  },
  {
   "cell_type": "markdown",
   "metadata": {},
   "source": [
    "If you would like to send yourself or your friend an email containing your encrypted message, follow the steps below.\n",
    "\n",
    "1. On your email, or preferably an email you don't care about, enable app passwords and copy your email's app password.\n",
    "2. Create a file in this folder called .env containing the following:\n",
    "APP_PASS=\"your email's app password\"\n",
    "MY_EMAIL=\"the email you want to send from\"\n",
    "RECEIVER_EMAIL=\"the email you want to send to\"\n",
    "\n",
    "Note: If you're sending an email to a friend, your friend will also need to set up an app password in order for our script to retrieve the sent message from their email. For now, just set both the sender and receiver as your email address."
   ]
  },
  {
   "cell_type": "markdown",
   "metadata": {},
   "source": [
    "Run the following code, then check your email to see if the encrypted message is in your inbox. It should just look like a big number!"
   ]
  },
  {
   "cell_type": "code",
   "execution_count": 7,
   "metadata": {},
   "outputs": [],
   "source": [
    "import smtplib\n",
    "from email.mime.text import MIMEText\n",
    "from dotenv import load_dotenv\n",
    "import os\n",
    "\n",
    "# Load variables from the .env file\n",
    "load_dotenv()\n",
    "\n",
    "# Access the app password, sender email, and receiver email\n",
    "app_pass = os.getenv(\"APP_PASS\")  # Retrieve the API key\n",
    "my_email = os.getenv(\"MY_EMAIL\")  # Retrieve sender email\n",
    "receiver_email = os.getenv(\"RECEIVER_EMAIL\") # Retrieve receiver email\n",
    "if not app_pass:\n",
    "    raise EnvironmentError(\"APP_PASS not found in .env file or environment variables\")\n",
    "if not my_email:\n",
    "    raise EnvironmentError(\"MY_EMAIL not found in .env file or environment variables\")\n",
    "if not receiver_email:\n",
    "    raise EnvironmentError(\"RECEIVER_EMAIL not found in .env file or environment variables\")\n",
    "\n",
    "\n",
    "def send_email(message, receiver_email):\n",
    "\n",
    "    subject = \"You got an encrypted message!\"\n",
    "    message = message\n",
    "    sender_email = my_email\n",
    "    smtp_server = \"smtp.gmail.com\"\n",
    "    smtp_port = 587\n",
    "    smtp_username = my_email\n",
    "    smtp_password = app_pass\n",
    "\n",
    "    msg = MIMEText(message)\n",
    "    msg[\"Subject\"] = subject\n",
    "    msg[\"From\"] = sender_email\n",
    "    msg[\"To\"] = receiver_email\n",
    "\n",
    "    try:\n",
    "        with smtplib.SMTP(smtp_server, smtp_port) as server:\n",
    "            server.starttls()\n",
    "            server.login(smtp_username, smtp_password)\n",
    "            server.sendmail(sender_email, receiver_email, msg.as_string())\n",
    "        # print(\"Email notification sent successfully!\")\n",
    "    except Exception as e:\n",
    "        print(f\"Failed to send email notification: {e}\")\n",
    "\n",
    "\n",
    "# Send an email to your recipient containing the encrypted message\n",
    "send_email(encrypted_message, receiver_email)\n"
   ]
  },
  {
   "cell_type": "markdown",
   "metadata": {},
   "source": [
    "Then run the following code block to read the most recent email in your (or your friend's) inbox (should be the one you just sent) and display its content."
   ]
  },
  {
   "cell_type": "code",
   "execution_count": 9,
   "metadata": {},
   "outputs": [
    {
     "name": "stdout",
     "output_type": "stream",
     "text": [
      "Received message: 8006607196980664483011785397559037\n"
     ]
    }
   ],
   "source": [
    "import imaplib\n",
    "import email\n",
    "from dotenv import load_dotenv\n",
    "import os\n",
    "\n",
    "# Access the app password\n",
    "load_dotenv()\n",
    "app_pass = os.getenv('APP_PASS')  # Retrieve the API key\n",
    "my_email = os.getenv('MY_EMAIL')\n",
    "if not app_pass:\n",
    "    raise EnvironmentError(\"APP_PASS not found in .env file or environment variables\")\n",
    "if not my_email:\n",
    "    raise EnvironmentError(\"MY_EMAIL not found in .env file or environment variables\")\n",
    "\n",
    "\n",
    "# Gmail IMAP settings\n",
    "IMAP_SERVER = 'imap.gmail.com'\n",
    "EMAIL = my_email\n",
    "PASSWORD = app_pass\n",
    "\n",
    "def read_emails():\n",
    "    # Connect to Gmail\n",
    "    mail = imaplib.IMAP4_SSL(IMAP_SERVER)\n",
    "    mail.login(EMAIL, PASSWORD)\n",
    "\n",
    "    # Select the inbox\n",
    "    mail.select(\"inbox\")\n",
    "\n",
    "    # Search for all emails\n",
    "    status, messages = mail.search(None, 'ALL')\n",
    "    email_ids = messages[0].split()\n",
    "\n",
    "    for e_id in email_ids[-1:]:  # Fetch the last 1 emails\n",
    "        status, msg_data = mail.fetch(e_id, '(RFC822)')\n",
    "        for response_part in msg_data:\n",
    "            if isinstance(response_part, tuple):\n",
    "                msg = email.message_from_bytes(response_part[1])\n",
    "\n",
    "                if msg.is_multipart():\n",
    "                    for part in msg.walk():\n",
    "                        if part.get_content_type() == \"text/plain\":\n",
    "                            message = part.get_payload(decode=True).decode()\n",
    "                else:\n",
    "                    message = msg.get_payload(decode=True).decode()\n",
    "\n",
    "    mail.logout()\n",
    "\n",
    "    return message\n",
    "\n",
    "if __name__ == \"__main__\":\n",
    "    received_message = int(read_emails().split()[0])\n",
    "    print(\"Received message:\", received_message)\n"
   ]
  },
  {
   "cell_type": "markdown",
   "metadata": {},
   "source": [
    "##### SKIP TO HERE\n",
    "\n",
    "If you skipped the email portion, run this code block to set the received_message variable to be the encrypted message you generated earlier."
   ]
  },
  {
   "cell_type": "code",
   "execution_count": 12,
   "metadata": {},
   "outputs": [
    {
     "name": "stdout",
     "output_type": "stream",
     "text": [
      "Received message: 8006607196980664483011785397559037\n"
     ]
    }
   ],
   "source": [
    "received_message = int(encrypted_message)\n",
    "print(\"Received message:\", received_message)"
   ]
  },
  {
   "cell_type": "markdown",
   "metadata": {},
   "source": [
    "Now to decrypt the message. Remember how I said the private key was the inverse of the public key? Basically, you can take your encrypted message to the power of your private key to turn it back into your original message.\n",
    "\n",
    "This code block will decrypt your message, convert it back into letters, and display it for you."
   ]
  },
  {
   "cell_type": "code",
   "execution_count": null,
   "metadata": {},
   "outputs": [
    {
     "name": "stdout",
     "output_type": "stream",
     "text": [
      "Decrypted message: hello\n"
     ]
    }
   ],
   "source": [
    "def convert_int_to_message(message_as_int):\n",
    "    \"\"\"\n",
    "    Convert the long integer back to the original message.\n",
    "    \n",
    "    Args:\n",
    "        message_as_int: int representing the encoded message\n",
    "\n",
    "    Returns:\n",
    "        message: the decoded string message\n",
    "    \"\"\"\n",
    "    # Convert message_as_int into a string for processing\n",
    "    message_as_int = str(message_as_int)[1:] # remove leading one\n",
    "    \n",
    "    # Convert each string of four numbers back to a letter\n",
    "    original_message = \"\"\n",
    "    for i in range(0, len(message_as_int), 4):\n",
    "        original_message += chr(int(message_as_int[i : i + 4]))\n",
    "\n",
    "    return original_message\n",
    "\n",
    "# Convert string message back to int\n",
    "received_message = int(received_message)\n",
    "\n",
    "# Decrypt the message\n",
    "decrypted_message = rsa.decrypt(private_key, received_message)\n",
    "\n",
    "# Convert back to letters\n",
    "decrypted_message = convert_int_to_message(decrypted_message)\n",
    "\n",
    "print(\"Decrypted message:\", decrypted_message)"
   ]
  },
  {
   "cell_type": "markdown",
   "metadata": {},
   "source": [
    "Look at that! You just sent a message that no one, not even your email provider, will be able to intercept and read."
   ]
  }
 ],
 "metadata": {
  "kernelspec": {
   "display_name": "Python 3",
   "language": "python",
   "name": "python3"
  },
  "language_info": {
   "codemirror_mode": {
    "name": "ipython",
    "version": 3
   },
   "file_extension": ".py",
   "mimetype": "text/x-python",
   "name": "python",
   "nbconvert_exporter": "python",
   "pygments_lexer": "ipython3",
   "version": "3.12.8"
  }
 },
 "nbformat": 4,
 "nbformat_minor": 2
}
