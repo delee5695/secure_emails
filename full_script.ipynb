{
 "cells": [
  {
   "cell_type": "markdown",
   "metadata": {},
   "source": [
    "Import the rsa module we wrote"
   ]
  },
  {
   "cell_type": "code",
   "execution_count": 1,
   "metadata": {},
   "outputs": [],
   "source": [
    "import rsa"
   ]
  },
  {
   "cell_type": "markdown",
   "metadata": {},
   "source": [
    "Generate a public and private key"
   ]
  },
  {
   "cell_type": "code",
   "execution_count": null,
   "metadata": {},
   "outputs": [
    {
     "name": "stdout",
     "output_type": "stream",
     "text": [
      "Public Key: (2412134019884938021, 1037901271948760861)\n",
      "Private Key: (2412134019884938021, 84385038535630421)\n"
     ]
    }
   ],
   "source": [
    "# Generate two distinct random prime integers (normally would be random but you can choose them here)\n",
    "p = 1000000007\n",
    "q = 2412134003\n",
    "\n",
    "private_key, public_key = rsa.generate_key(p,q)\n",
    "print(\"Public Key:\", public_key)\n",
    "print(\"Private Key:\", private_key)"
   ]
  },
  {
   "cell_type": "markdown",
   "metadata": {},
   "source": [
    "Enter a message"
   ]
  },
  {
   "cell_type": "code",
   "execution_count": null,
   "metadata": {},
   "outputs": [],
   "source": [
    "# Enter a message to encrypt\n",
    "MESSAGE = \"ABC\""
   ]
  },
  {
   "cell_type": "markdown",
   "metadata": {},
   "source": [
    "Convert the message to an integer"
   ]
  },
  {
   "cell_type": "code",
   "execution_count": 25,
   "metadata": {},
   "outputs": [
    {
     "name": "stdout",
     "output_type": "stream",
     "text": [
      "Your message as an integer: 104101108108111\n"
     ]
    }
   ],
   "source": [
    "def convert_message_to_int(message):\n",
    "    \"\"\" Convert a message written in letters to integers using python's ord function.\n",
    "    \n",
    "    Args:\n",
    "        message: str containing your message\n",
    "\n",
    "    Returns:\n",
    "        message_as_int: the message converted to an integer (int)\n",
    "    \"\"\"\n",
    "    message_as_int = \"\"\n",
    "    for i in message:\n",
    "        int_letter = \"{:03d}\".format(ord(i))  # convert single letter to integer\n",
    "        message_as_int += str(int_letter)\n",
    "    message_as_int = int(message_as_int)\n",
    "    return message_as_int\n",
    "\n",
    "message_as_int = convert_message_to_int(MESSAGE)\n",
    "\n",
    "print(\"Your message as an integer:\", message_as_int)\n",
    "\n",
    "# The message must be smaller than p*q to be encrypted correctly\n",
    "if message_as_int >= p*q:\n",
    "    raise ValueError(\"The message in integer form must be smaller than p*q. Choose a shorter message or larger prime numbers.\")"
   ]
  },
  {
   "cell_type": "markdown",
   "metadata": {},
   "source": [
    "Encrypt the message"
   ]
  },
  {
   "cell_type": "code",
   "execution_count": 29,
   "metadata": {},
   "outputs": [
    {
     "name": "stdout",
     "output_type": "stream",
     "text": [
      "803191198881463902\n"
     ]
    }
   ],
   "source": [
    "encrypted_message = rsa.encrypt(public_key, message_as_int)\n",
    "encrypted_message = str(encrypted_message) # needs to be a string to send over email, but we'll convert it back afterwards\n",
    "print(encrypted_message)"
   ]
  },
  {
   "cell_type": "markdown",
   "metadata": {},
   "source": [
    "Send the message to your recipient over email"
   ]
  },
  {
   "cell_type": "code",
   "execution_count": null,
   "metadata": {},
   "outputs": [],
   "source": [
    "import smtplib\n",
    "from email.mime.text import MIMEText\n",
    "from dotenv import load_dotenv\n",
    "import os\n",
    "\n",
    "# Load variables from the .env file\n",
    "load_dotenv()\n",
    "\n",
    "# Access the app password, sender email, and receiver email\n",
    "app_pass = os.getenv(\"APP_PASS\")  # Retrieve the API key\n",
    "my_email = os.getenv(\"MY_EMAIL\")  # Retrieve sender email\n",
    "receiver_email = os.getenv(\"RECEIVER_EMAIL\") # Retrieve receiver email\n",
    "if not app_pass:\n",
    "    raise EnvironmentError(\"APP_PASS not found in .env file or environment variables\")\n",
    "if not my_email:\n",
    "    raise EnvironmentError(\"MY_EMAIL not found in .env file or environment variables\")\n",
    "if not receiver_email:\n",
    "    raise EnvironmentError(\"RECEIVER_EMAIL not found in .env file or environment variables\")\n",
    "\n",
    "\n",
    "def send_email(message, receiver_email):\n",
    "\n",
    "    subject = \"You got an encrypted message!\"\n",
    "    message = message\n",
    "    sender_email = my_email\n",
    "    smtp_server = \"smtp.gmail.com\"\n",
    "    smtp_port = 587\n",
    "    smtp_username = my_email\n",
    "    smtp_password = app_pass\n",
    "\n",
    "    msg = MIMEText(message)\n",
    "    msg[\"Subject\"] = subject\n",
    "    msg[\"From\"] = sender_email\n",
    "    msg[\"To\"] = receiver_email\n",
    "\n",
    "    try:\n",
    "        with smtplib.SMTP(smtp_server, smtp_port) as server:\n",
    "            server.starttls()\n",
    "            server.login(smtp_username, smtp_password)\n",
    "            server.sendmail(sender_email, receiver_email, msg.as_string())\n",
    "        # print(\"Email notification sent successfully!\")\n",
    "    except Exception as e:\n",
    "        print(f\"Failed to send email notification: {e}\")\n",
    "\n",
    "\n",
    "# Send an email to your recipient containing the encrypted message\n",
    "send_email(encrypted_message, receiver_email)\n"
   ]
  },
  {
   "cell_type": "markdown",
   "metadata": {},
   "source": [
    "Read the encrypted message directly from your inbox and display it"
   ]
  },
  {
   "cell_type": "code",
   "execution_count": 35,
   "metadata": {},
   "outputs": [
    {
     "name": "stdout",
     "output_type": "stream",
     "text": [
      "52\n"
     ]
    }
   ],
   "source": [
    "import imaplib\n",
    "import email\n",
    "from dotenv import load_dotenv\n",
    "import os\n",
    "\n",
    "# Access the app password\n",
    "load_dotenv()\n",
    "app_pass = os.getenv('APP_PASS')  # Retrieve the API key\n",
    "my_email = os.getenv('MY_EMAIL')\n",
    "if not app_pass:\n",
    "    raise EnvironmentError(\"APP_PASS not found in .env file or environment variables\")\n",
    "if not my_email:\n",
    "    raise EnvironmentError(\"MY_EMAIL not found in .env file or environment variables\")\n",
    "\n",
    "\n",
    "# Gmail IMAP settings\n",
    "IMAP_SERVER = 'imap.gmail.com'\n",
    "EMAIL = my_email\n",
    "PASSWORD = app_pass\n",
    "\n",
    "def read_emails():\n",
    "    # Connect to Gmail\n",
    "    mail = imaplib.IMAP4_SSL(IMAP_SERVER)\n",
    "    mail.login(EMAIL, PASSWORD)\n",
    "\n",
    "    # Select the inbox\n",
    "    mail.select(\"inbox\")\n",
    "\n",
    "    # Search for all emails\n",
    "    status, messages = mail.search(None, 'ALL')\n",
    "    email_ids = messages[0].split()\n",
    "\n",
    "    for e_id in email_ids[-1:]:  # Fetch the last 1 emails\n",
    "        status, msg_data = mail.fetch(e_id, '(RFC822)')\n",
    "        for response_part in msg_data:\n",
    "            if isinstance(response_part, tuple):\n",
    "                msg = email.message_from_bytes(response_part[1])\n",
    "\n",
    "                if msg.is_multipart():\n",
    "                    for part in msg.walk():\n",
    "                        if part.get_content_type() == \"text/plain\":\n",
    "                            message = part.get_payload(decode=True).decode()\n",
    "                else:\n",
    "                    message = msg.get_payload(decode=True).decode()\n",
    "\n",
    "    mail.logout()\n",
    "\n",
    "    return message\n",
    "\n",
    "if __name__ == \"__main__\":\n",
    "    received_message = int(read_emails().split()[0])\n",
    "    print(received_message)\n"
   ]
  },
  {
   "cell_type": "markdown",
   "metadata": {},
   "source": [
    "Decrypt the message, convert back to letters, and display it"
   ]
  },
  {
   "cell_type": "code",
   "execution_count": 32,
   "metadata": {},
   "outputs": [
    {
     "name": "stdout",
     "output_type": "stream",
     "text": [
      "803191198881463902\n"
     ]
    }
   ],
   "source": [
    "received_message = int(encrypted_message)\n",
    "print(received_message)"
   ]
  },
  {
   "cell_type": "code",
   "execution_count": 31,
   "metadata": {},
   "outputs": [
    {
     "name": "stdout",
     "output_type": "stream",
     "text": [
      "Decrypted message: \n",
      "\n",
      "\n",
      "\n",
      "\u000b\u0000\n"
     ]
    }
   ],
   "source": [
    "def convert_int_to_message(message_as_int):\n",
    "    \"\"\" Convert an integer back to a message using python's chr function.\n",
    "\n",
    "    Args:\n",
    "        message_as_int: int representing the encoded message\n",
    "\n",
    "    Returns:\n",
    "        message: the decoded string message\n",
    "    \"\"\"\n",
    "    message_as_str = str(message_as_int) + \"0\"  # Convert integer to string for processing\n",
    "    message = \"\"\n",
    "    for i in range(0, len(message_as_str), 3):  # Process in chunks of 3\n",
    "        int_letter = int(message_as_str[i:i+2])  # Convert chunk back to integer\n",
    "        message += chr(int_letter)  # Convert integer to character\n",
    "    return message\n",
    "\n",
    "\n",
    "# Decrypt the message\n",
    "decrypted_message = rsa.decrypt(private_key, received_message)\n",
    "\n",
    "# Convert back to letters\n",
    "decrypted_message = convert_int_to_message(decrypted_message)\n",
    "\n",
    "print(\"Decrypted message:\", decrypted_message)"
   ]
  }
 ],
 "metadata": {
  "kernelspec": {
   "display_name": "Python 3",
   "language": "python",
   "name": "python3"
  },
  "language_info": {
   "codemirror_mode": {
    "name": "ipython",
    "version": 3
   },
   "file_extension": ".py",
   "mimetype": "text/x-python",
   "name": "python",
   "nbconvert_exporter": "python",
   "pygments_lexer": "ipython3",
   "version": "3.12.8"
  }
 },
 "nbformat": 4,
 "nbformat_minor": 2
}
